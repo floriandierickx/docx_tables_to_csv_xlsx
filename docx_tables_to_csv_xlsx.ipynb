{
 "cells": [
  {
   "cell_type": "code",
   "execution_count": null,
   "id": "88873e54",
   "metadata": {},
   "outputs": [],
   "source": [
    "# user input\n",
    "############\n",
    "\n",
    "# [step 1] add docx-file to root folder and copy filename\n",
    "\n",
    "filename = 'wordfile' # set docx-document name here (without .docx-extention)"
   ]
  },
  {
   "cell_type": "code",
   "execution_count": 26,
   "id": "0eba7565",
   "metadata": {},
   "outputs": [],
   "source": [
    "# extract tables from a word-document: https://stackoverflow.com/questions/66350789/extracting-tables-from-a-word-doc\n",
    "######################################\n",
    "\n",
    "# if docx (python-docx) is not yet installed:\n",
    "# !pip install python-docx # https://stackoverflow.com/questions/22765313/when-import-docx-in-python3-3-i-have-error-importerror-no-module-named-excepti"
   ]
  },
  {
   "cell_type": "code",
   "execution_count": 27,
   "id": "0dd39ef9",
   "metadata": {},
   "outputs": [],
   "source": [
    "# run script\n",
    "import docx\n",
    "\n",
    "from docx import Document\n",
    "import pandas as pd\n",
    "document = Document(filename + '.docx')\n",
    "\n",
    "tables = []\n",
    "for table in document.tables:\n",
    "    df = [['' for i in range(len(table.columns))] for j in range(len(table.rows))]\n",
    "    for i, row in enumerate(table.rows):\n",
    "        for j, cell in enumerate(row.cells):\n",
    "            if cell.text:\n",
    "                df[i][j] = cell.text\n",
    "    tables.append(pd.DataFrame(df))"
   ]
  },
  {
   "cell_type": "code",
   "execution_count": 40,
   "id": "6bbbe125",
   "metadata": {},
   "outputs": [],
   "source": [
    "# save tables to csv files:\n",
    "##########################\n",
    "\n",
    "os.mkdir('csv')\n",
    "path = 'csv/'\n",
    "\n",
    "for nr, i in enumerate(tables):\n",
    "    i.to_csv(os.path.join(path,\"table_\" + str(nr) + \".csv\"))"
   ]
  },
  {
   "cell_type": "code",
   "execution_count": 41,
   "id": "6d8ba6da",
   "metadata": {},
   "outputs": [],
   "source": [
    "# batch combine csv files to excel sheet (https://stackoverflow.com/questions/62350720/what-code-should-my-batch-file-have-to-merge-multiple-csv-files-into-a-new-singl)\n",
    "########################################\n",
    "\n",
    "## if not yet installed:\n",
    "# conda install os\n",
    "# conda install csv\n",
    "# conda install openpyxl\n",
    "\n",
    "## install packages\n",
    "\n",
    "import os\n",
    "import csv\n",
    "import openpyxl as xl\n"
   ]
  },
  {
   "cell_type": "code",
   "execution_count": 42,
   "id": "836efcd2",
   "metadata": {},
   "outputs": [],
   "source": [
    "## run script (modified from source)\n",
    "\n",
    "files = ['csv/'+ f for f in sorted(os.listdir('csv'))]\n",
    "names = [os.path.splitext(filename)[0] for filename in sorted(os.listdir('csv'))] # from https://stackoverflow.com/a/47319346/7123752\n",
    "\n",
    "# print(names) # verify csv-names\n",
    "\n",
    "wb = xl.Workbook()\n",
    "wb.remove(wb.active)\n",
    "\n",
    "i = 0\n",
    "for ff,nn in zip(files,names): # iterate over two variables, from https://stackoverflow.com/a/18648706/7123752\n",
    "    with open(ff) as f:\n",
    "        i += 1\n",
    "        ws = wb.create_sheet(nn)\n",
    "        reader = csv.reader(f, delimiter=',')\n",
    "        for row in reader:\n",
    "            ws.append(row)\n",
    "\n",
    "wb.save('tables.xlsx')\n",
    "\n",
    "# wb._sheets.sort(key=lambda ws: ws.title) # sort worksheets https://stackoverflow.com/a/54205962/7123752"
   ]
  },
  {
   "cell_type": "code",
   "execution_count": null,
   "id": "46f49359",
   "metadata": {},
   "outputs": [],
   "source": []
  }
 ],
 "metadata": {
  "kernelspec": {
   "display_name": "Python 3",
   "language": "python",
   "name": "python3"
  },
  "language_info": {
   "codemirror_mode": {
    "name": "ipython",
    "version": 3
   },
   "file_extension": ".py",
   "mimetype": "text/x-python",
   "name": "python",
   "nbconvert_exporter": "python",
   "pygments_lexer": "ipython3",
   "version": "3.6.13"
  }
 },
 "nbformat": 4,
 "nbformat_minor": 5
}
